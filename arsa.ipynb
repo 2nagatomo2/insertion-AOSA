{
 "cells": [
  {
   "cell_type": "code",
   "execution_count": null,
   "metadata": {},
   "outputs": [],
   "source": [
    "#%% ライブラリのインポート\n",
    "import json\n",
    "import sys\n",
    "from argparse import Namespace\n",
    "from pathlib import Path\n",
    "from time import time\n",
    "\n",
    "import numpy as np\n",
    "import torch\n",
    "import resnet3d\n",
    "\n",
    "# sys.path.append(\"resnet3d/\")\n",
    "import torchvision\n",
    "from IPython.display import HTML\n",
    "from resnet3d.main import generate_model, get_inference_utils, resume_model\n",
    "from resnet3d.model import generate_model, make_data_parallel\n",
    "from torch.backends import cudnn\n",
    "from torchvision.transforms import transforms\n",
    "from torchvision.transforms.transforms import Normalize, ToPILImage\n",
    "\n",
    "sys.path.append(\"src/\")\n",
    "\n",
    "from utils.dataset_utils import load_jpg_ucf101_from_NAS\n",
    "from utils.sensitivity_analysis import OcclusionSensitivityMap3D as OSM\n",
    "from utils.visualization import visualize"
   ]
  },
  {
   "cell_type": "code",
   "execution_count": null,
   "metadata": {},
   "outputs": [
    {
     "name": "stdout",
     "output_type": "stream",
     "text": [
      "loading checkpoint data/r3d_models/finetuning/ucf101/r3d50_K_fc/save_200.pth model\n",
      "model: ResNet(\n",
      "  (conv1): Conv3d(3, 64, kernel_size=(7, 7, 7), stride=(1, 2, 2), padding=(3, 3, 3), bias=False)\n",
      "  (bn1): BatchNorm3d(64, eps=1e-05, momentum=0.1, affine=True, track_running_stats=True)\n",
      "  (relu): ReLU(inplace=True)\n",
      "  (maxpool): MaxPool3d(kernel_size=3, stride=2, padding=1, dilation=1, ceil_mode=False)\n",
      "  (layer1): Sequential(\n",
      "    (0): Bottleneck(\n",
      "      (conv1): Conv3d(64, 64, kernel_size=(1, 1, 1), stride=(1, 1, 1), bias=False)\n",
      "      (bn1): BatchNorm3d(64, eps=1e-05, momentum=0.1, affine=True, track_running_stats=True)\n",
      "      (conv2): Conv3d(64, 64, kernel_size=(3, 3, 3), stride=(1, 1, 1), padding=(1, 1, 1), bias=False)\n",
      "      (bn2): BatchNorm3d(64, eps=1e-05, momentum=0.1, affine=True, track_running_stats=True)\n",
      "      (conv3): Conv3d(64, 256, kernel_size=(1, 1, 1), stride=(1, 1, 1), bias=False)\n",
      "      (bn3): BatchNorm3d(256, eps=1e-05, momentum=0.1, affine=True, track_running_stats=True)\n",
      "      (relu): ReLU(inplace=True)\n",
      "      (downsample): Sequential(\n",
      "        (0): Conv3d(64, 256, kernel_size=(1, 1, 1), stride=(1, 1, 1), bias=False)\n",
      "        (1): BatchNorm3d(256, eps=1e-05, momentum=0.1, affine=True, track_running_stats=True)\n",
      "      )\n",
      "    )\n",
      "    (1): Bottleneck(\n",
      "      (conv1): Conv3d(256, 64, kernel_size=(1, 1, 1), stride=(1, 1, 1), bias=False)\n",
      "      (bn1): BatchNorm3d(64, eps=1e-05, momentum=0.1, affine=True, track_running_stats=True)\n",
      "      (conv2): Conv3d(64, 64, kernel_size=(3, 3, 3), stride=(1, 1, 1), padding=(1, 1, 1), bias=False)\n",
      "      (bn2): BatchNorm3d(64, eps=1e-05, momentum=0.1, affine=True, track_running_stats=True)\n",
      "      (conv3): Conv3d(64, 256, kernel_size=(1, 1, 1), stride=(1, 1, 1), bias=False)\n",
      "      (bn3): BatchNorm3d(256, eps=1e-05, momentum=0.1, affine=True, track_running_stats=True)\n",
      "      (relu): ReLU(inplace=True)\n",
      "    )\n",
      "    (2): Bottleneck(\n",
      "      (conv1): Conv3d(256, 64, kernel_size=(1, 1, 1), stride=(1, 1, 1), bias=False)\n",
      "      (bn1): BatchNorm3d(64, eps=1e-05, momentum=0.1, affine=True, track_running_stats=True)\n",
      "      (conv2): Conv3d(64, 64, kernel_size=(3, 3, 3), stride=(1, 1, 1), padding=(1, 1, 1), bias=False)\n",
      "      (bn2): BatchNorm3d(64, eps=1e-05, momentum=0.1, affine=True, track_running_stats=True)\n",
      "      (conv3): Conv3d(64, 256, kernel_size=(1, 1, 1), stride=(1, 1, 1), bias=False)\n",
      "      (bn3): BatchNorm3d(256, eps=1e-05, momentum=0.1, affine=True, track_running_stats=True)\n",
      "      (relu): ReLU(inplace=True)\n",
      "    )\n",
      "  )\n",
      "  (layer2): Sequential(\n",
      "    (0): Bottleneck(\n",
      "      (conv1): Conv3d(256, 128, kernel_size=(1, 1, 1), stride=(1, 1, 1), bias=False)\n",
      "      (bn1): BatchNorm3d(128, eps=1e-05, momentum=0.1, affine=True, track_running_stats=True)\n",
      "      (conv2): Conv3d(128, 128, kernel_size=(3, 3, 3), stride=(2, 2, 2), padding=(1, 1, 1), bias=False)\n",
      "      (bn2): BatchNorm3d(128, eps=1e-05, momentum=0.1, affine=True, track_running_stats=True)\n",
      "      (conv3): Conv3d(128, 512, kernel_size=(1, 1, 1), stride=(1, 1, 1), bias=False)\n",
      "      (bn3): BatchNorm3d(512, eps=1e-05, momentum=0.1, affine=True, track_running_stats=True)\n",
      "      (relu): ReLU(inplace=True)\n",
      "      (downsample): Sequential(\n",
      "        (0): Conv3d(256, 512, kernel_size=(1, 1, 1), stride=(2, 2, 2), bias=False)\n",
      "        (1): BatchNorm3d(512, eps=1e-05, momentum=0.1, affine=True, track_running_stats=True)\n",
      "      )\n",
      "    )\n",
      "    (1): Bottleneck(\n",
      "      (conv1): Conv3d(512, 128, kernel_size=(1, 1, 1), stride=(1, 1, 1), bias=False)\n",
      "      (bn1): BatchNorm3d(128, eps=1e-05, momentum=0.1, affine=True, track_running_stats=True)\n",
      "      (conv2): Conv3d(128, 128, kernel_size=(3, 3, 3), stride=(1, 1, 1), padding=(1, 1, 1), bias=False)\n",
      "      (bn2): BatchNorm3d(128, eps=1e-05, momentum=0.1, affine=True, track_running_stats=True)\n",
      "      (conv3): Conv3d(128, 512, kernel_size=(1, 1, 1), stride=(1, 1, 1), bias=False)\n",
      "      (bn3): BatchNorm3d(512, eps=1e-05, momentum=0.1, affine=True, track_running_stats=True)\n",
      "      (relu): ReLU(inplace=True)\n",
      "    )\n",
      "    (2): Bottleneck(\n",
      "      (conv1): Conv3d(512, 128, kernel_size=(1, 1, 1), stride=(1, 1, 1), bias=False)\n",
      "      (bn1): BatchNorm3d(128, eps=1e-05, momentum=0.1, affine=True, track_running_stats=True)\n",
      "      (conv2): Conv3d(128, 128, kernel_size=(3, 3, 3), stride=(1, 1, 1), padding=(1, 1, 1), bias=False)\n",
      "      (bn2): BatchNorm3d(128, eps=1e-05, momentum=0.1, affine=True, track_running_stats=True)\n",
      "      (conv3): Conv3d(128, 512, kernel_size=(1, 1, 1), stride=(1, 1, 1), bias=False)\n",
      "      (bn3): BatchNorm3d(512, eps=1e-05, momentum=0.1, affine=True, track_running_stats=True)\n",
      "      (relu): ReLU(inplace=True)\n",
      "    )\n",
      "    (3): Bottleneck(\n",
      "      (conv1): Conv3d(512, 128, kernel_size=(1, 1, 1), stride=(1, 1, 1), bias=False)\n",
      "      (bn1): BatchNorm3d(128, eps=1e-05, momentum=0.1, affine=True, track_running_stats=True)\n",
      "      (conv2): Conv3d(128, 128, kernel_size=(3, 3, 3), stride=(1, 1, 1), padding=(1, 1, 1), bias=False)\n",
      "      (bn2): BatchNorm3d(128, eps=1e-05, momentum=0.1, affine=True, track_running_stats=True)\n",
      "      (conv3): Conv3d(128, 512, kernel_size=(1, 1, 1), stride=(1, 1, 1), bias=False)\n",
      "      (bn3): BatchNorm3d(512, eps=1e-05, momentum=0.1, affine=True, track_running_stats=True)\n",
      "      (relu): ReLU(inplace=True)\n",
      "    )\n",
      "  )\n",
      "  (layer3): Sequential(\n",
      "    (0): Bottleneck(\n",
      "      (conv1): Conv3d(512, 256, kernel_size=(1, 1, 1), stride=(1, 1, 1), bias=False)\n",
      "      (bn1): BatchNorm3d(256, eps=1e-05, momentum=0.1, affine=True, track_running_stats=True)\n",
      "      (conv2): Conv3d(256, 256, kernel_size=(3, 3, 3), stride=(2, 2, 2), padding=(1, 1, 1), bias=False)\n",
      "      (bn2): BatchNorm3d(256, eps=1e-05, momentum=0.1, affine=True, track_running_stats=True)\n",
      "      (conv3): Conv3d(256, 1024, kernel_size=(1, 1, 1), stride=(1, 1, 1), bias=False)\n",
      "      (bn3): BatchNorm3d(1024, eps=1e-05, momentum=0.1, affine=True, track_running_stats=True)\n",
      "      (relu): ReLU(inplace=True)\n",
      "      (downsample): Sequential(\n",
      "        (0): Conv3d(512, 1024, kernel_size=(1, 1, 1), stride=(2, 2, 2), bias=False)\n",
      "        (1): BatchNorm3d(1024, eps=1e-05, momentum=0.1, affine=True, track_running_stats=True)\n",
      "      )\n",
      "    )\n",
      "    (1): Bottleneck(\n",
      "      (conv1): Conv3d(1024, 256, kernel_size=(1, 1, 1), stride=(1, 1, 1), bias=False)\n",
      "      (bn1): BatchNorm3d(256, eps=1e-05, momentum=0.1, affine=True, track_running_stats=True)\n",
      "      (conv2): Conv3d(256, 256, kernel_size=(3, 3, 3), stride=(1, 1, 1), padding=(1, 1, 1), bias=False)\n",
      "      (bn2): BatchNorm3d(256, eps=1e-05, momentum=0.1, affine=True, track_running_stats=True)\n",
      "      (conv3): Conv3d(256, 1024, kernel_size=(1, 1, 1), stride=(1, 1, 1), bias=False)\n",
      "      (bn3): BatchNorm3d(1024, eps=1e-05, momentum=0.1, affine=True, track_running_stats=True)\n",
      "      (relu): ReLU(inplace=True)\n",
      "    )\n",
      "    (2): Bottleneck(\n",
      "      (conv1): Conv3d(1024, 256, kernel_size=(1, 1, 1), stride=(1, 1, 1), bias=False)\n",
      "      (bn1): BatchNorm3d(256, eps=1e-05, momentum=0.1, affine=True, track_running_stats=True)\n",
      "      (conv2): Conv3d(256, 256, kernel_size=(3, 3, 3), stride=(1, 1, 1), padding=(1, 1, 1), bias=False)\n",
      "      (bn2): BatchNorm3d(256, eps=1e-05, momentum=0.1, affine=True, track_running_stats=True)\n",
      "      (conv3): Conv3d(256, 1024, kernel_size=(1, 1, 1), stride=(1, 1, 1), bias=False)\n",
      "      (bn3): BatchNorm3d(1024, eps=1e-05, momentum=0.1, affine=True, track_running_stats=True)\n",
      "      (relu): ReLU(inplace=True)\n",
      "    )\n",
      "    (3): Bottleneck(\n",
      "      (conv1): Conv3d(1024, 256, kernel_size=(1, 1, 1), stride=(1, 1, 1), bias=False)\n",
      "      (bn1): BatchNorm3d(256, eps=1e-05, momentum=0.1, affine=True, track_running_stats=True)\n",
      "      (conv2): Conv3d(256, 256, kernel_size=(3, 3, 3), stride=(1, 1, 1), padding=(1, 1, 1), bias=False)\n",
      "      (bn2): BatchNorm3d(256, eps=1e-05, momentum=0.1, affine=True, track_running_stats=True)\n",
      "      (conv3): Conv3d(256, 1024, kernel_size=(1, 1, 1), stride=(1, 1, 1), bias=False)\n",
      "      (bn3): BatchNorm3d(1024, eps=1e-05, momentum=0.1, affine=True, track_running_stats=True)\n",
      "      (relu): ReLU(inplace=True)\n",
      "    )\n",
      "    (4): Bottleneck(\n",
      "      (conv1): Conv3d(1024, 256, kernel_size=(1, 1, 1), stride=(1, 1, 1), bias=False)\n",
      "      (bn1): BatchNorm3d(256, eps=1e-05, momentum=0.1, affine=True, track_running_stats=True)\n",
      "      (conv2): Conv3d(256, 256, kernel_size=(3, 3, 3), stride=(1, 1, 1), padding=(1, 1, 1), bias=False)\n",
      "      (bn2): BatchNorm3d(256, eps=1e-05, momentum=0.1, affine=True, track_running_stats=True)\n",
      "      (conv3): Conv3d(256, 1024, kernel_size=(1, 1, 1), stride=(1, 1, 1), bias=False)\n",
      "      (bn3): BatchNorm3d(1024, eps=1e-05, momentum=0.1, affine=True, track_running_stats=True)\n",
      "      (relu): ReLU(inplace=True)\n",
      "    )\n",
      "    (5): Bottleneck(\n",
      "      (conv1): Conv3d(1024, 256, kernel_size=(1, 1, 1), stride=(1, 1, 1), bias=False)\n",
      "      (bn1): BatchNorm3d(256, eps=1e-05, momentum=0.1, affine=True, track_running_stats=True)\n",
      "      (conv2): Conv3d(256, 256, kernel_size=(3, 3, 3), stride=(1, 1, 1), padding=(1, 1, 1), bias=False)\n",
      "      (bn2): BatchNorm3d(256, eps=1e-05, momentum=0.1, affine=True, track_running_stats=True)\n",
      "      (conv3): Conv3d(256, 1024, kernel_size=(1, 1, 1), stride=(1, 1, 1), bias=False)\n",
      "      (bn3): BatchNorm3d(1024, eps=1e-05, momentum=0.1, affine=True, track_running_stats=True)\n",
      "      (relu): ReLU(inplace=True)\n",
      "    )\n",
      "  )\n",
      "  (layer4): Sequential(\n",
      "    (0): Bottleneck(\n",
      "      (conv1): Conv3d(1024, 512, kernel_size=(1, 1, 1), stride=(1, 1, 1), bias=False)\n",
      "      (bn1): BatchNorm3d(512, eps=1e-05, momentum=0.1, affine=True, track_running_stats=True)\n",
      "      (conv2): Conv3d(512, 512, kernel_size=(3, 3, 3), stride=(2, 2, 2), padding=(1, 1, 1), bias=False)\n",
      "      (bn2): BatchNorm3d(512, eps=1e-05, momentum=0.1, affine=True, track_running_stats=True)\n",
      "      (conv3): Conv3d(512, 2048, kernel_size=(1, 1, 1), stride=(1, 1, 1), bias=False)\n",
      "      (bn3): BatchNorm3d(2048, eps=1e-05, momentum=0.1, affine=True, track_running_stats=True)\n",
      "      (relu): ReLU(inplace=True)\n",
      "      (downsample): Sequential(\n",
      "        (0): Conv3d(1024, 2048, kernel_size=(1, 1, 1), stride=(2, 2, 2), bias=False)\n",
      "        (1): BatchNorm3d(2048, eps=1e-05, momentum=0.1, affine=True, track_running_stats=True)\n",
      "      )\n",
      "    )\n",
      "    (1): Bottleneck(\n",
      "      (conv1): Conv3d(2048, 512, kernel_size=(1, 1, 1), stride=(1, 1, 1), bias=False)\n",
      "      (bn1): BatchNorm3d(512, eps=1e-05, momentum=0.1, affine=True, track_running_stats=True)\n",
      "      (conv2): Conv3d(512, 512, kernel_size=(3, 3, 3), stride=(1, 1, 1), padding=(1, 1, 1), bias=False)\n",
      "      (bn2): BatchNorm3d(512, eps=1e-05, momentum=0.1, affine=True, track_running_stats=True)\n",
      "      (conv3): Conv3d(512, 2048, kernel_size=(1, 1, 1), stride=(1, 1, 1), bias=False)\n",
      "      (bn3): BatchNorm3d(2048, eps=1e-05, momentum=0.1, affine=True, track_running_stats=True)\n",
      "      (relu): ReLU(inplace=True)\n",
      "    )\n",
      "    (2): Bottleneck(\n",
      "      (conv1): Conv3d(2048, 512, kernel_size=(1, 1, 1), stride=(1, 1, 1), bias=False)\n",
      "      (bn1): BatchNorm3d(512, eps=1e-05, momentum=0.1, affine=True, track_running_stats=True)\n",
      "      (conv2): Conv3d(512, 512, kernel_size=(3, 3, 3), stride=(1, 1, 1), padding=(1, 1, 1), bias=False)\n",
      "      (bn2): BatchNorm3d(512, eps=1e-05, momentum=0.1, affine=True, track_running_stats=True)\n",
      "      (conv3): Conv3d(512, 2048, kernel_size=(1, 1, 1), stride=(1, 1, 1), bias=False)\n",
      "      (bn3): BatchNorm3d(2048, eps=1e-05, momentum=0.1, affine=True, track_running_stats=True)\n",
      "      (relu): ReLU(inplace=True)\n",
      "    )\n",
      "  )\n",
      "  (avgpool): AdaptiveAvgPool3d(output_size=(1, 1, 1))\n",
      "  (fc): Linear(in_features=2048, out_features=101, bias=True)\n",
      ")\n",
      "dataset loading [0/3783]\n",
      "dataset loading [756/3783]\n",
      "dataset loading [1512/3783]\n",
      "dataset loading [2268/3783]\n",
      "dataset loading [3024/3783]\n",
      "dataset loading [3780/3783]\n"
     ]
    }
   ],
   "source": [
    "#%% モデルの準備〜入力の準備\n",
    "opt_path = \"data/r3d_models/finetuning/ucf101/r3d50_K_fc/opts.json\"\n",
    "with open(opt_path, \"r\") as f:\n",
    "    model_opt = json.load(f)\n",
    "model_opt = Namespace(**model_opt)\n",
    "\n",
    "model_opt.device = torch.device(\"cpu\" if model_opt.no_cuda else \"cuda\")\n",
    "if not model_opt.no_cuda:\n",
    "    cudnn.benchmark = True\n",
    "if model_opt.accimage:\n",
    "    torchvision.set_image_backend(\"accimage\")\n",
    "\n",
    "model_opt.ngpus_per_node = torch.cuda.device_count()\n",
    "\n",
    "model = generate_model(model_opt)\n",
    "model = resume_model(model_opt.resume_path, model_opt.arch, model)\n",
    "model = make_data_parallel(model, model_opt.distributed, model_opt.device)\n",
    "model.eval()\n",
    "\n",
    "model_opt.inference_batch_size = 1\n",
    "for attribute in dir(model_opt):\n",
    "    if \"path\" in str(attribute) and getattr(model_opt, str(attribute)) != None:\n",
    "        setattr(model_opt, str(attribute), Path(getattr(model_opt, str(attribute))))\n",
    "inference_loader, inference_class_names = get_inference_utils(model_opt)\n",
    "\n",
    "class_labels_map = {v.lower(): k for k, v in inference_class_names.items()}\n"
   ]
  },
  {
   "cell_type": "code",
   "execution_count": null,
   "metadata": {},
   "outputs": [],
   "source": [
    "#%%\n",
    "inputs, targets = iter(inference_loader).__next__()\n",
    "video_size = inputs[[0]].shape\n",
    "transform = inference_loader.dataset.spatial_transform\n",
    "\n",
    "_transforms = transform.transforms\n",
    "idx = [type(i) for i in _transforms].index(resnet3d.spatial_transforms.Normalize)\n",
    "normalize = _transforms[idx]\n",
    "mean = torch.tensor(normalize.mean)\n",
    "std = torch.tensor(normalize.std)\n",
    "\n",
    "unnormalize = transforms.Compose(\n",
    "    [\n",
    "        Normalize((-mean / std).tolist(), (1 / std).tolist()),\n",
    "        ToPILImage(),\n",
    "    ]\n",
    ")\n"
   ]
  },
  {
   "cell_type": "code",
   "execution_count": null,
   "metadata": {},
   "outputs": [],
   "source": [
    "#%% OSMインスタンスの作成\n",
    "spatial_crop_size = 16\n",
    "spatial_stride = 8\n",
    "temporal_stride = 2\n",
    "\n",
    "aosa_single = OSM(\n",
    "    net=model,\n",
    "    video_size=video_size,\n",
    "    device=model_opt.device,\n",
    "    spatial_crop_size=spatial_crop_size,\n",
    "    spatial_stride=spatial_stride,\n",
    "    temporal_stride=temporal_stride,\n",
    "    transform=transform,\n",
    "    batchsize=400,\n",
    "    N_stack_mask=1,\n",
    ")\n",
    "\n",
    "aosa = OSM(\n",
    "    net=model,\n",
    "    video_size=video_size,\n",
    "    device=model_opt.device,\n",
    "    spatial_crop_size=spatial_crop_size,\n",
    "    spatial_stride=spatial_stride,\n",
    "    temporal_stride=temporal_stride,\n",
    "    transform=transform,\n",
    "    batchsize=400,\n",
    "    N_stack_mask=8,\n",
    ")\n",
    "\n",
    "arsa = []\n",
    "max_masks = 12\n",
    "\n",
    "for i in range(max_masks):\n",
    "    arsa.append(\n",
    "        OSM(\n",
    "            net=model,\n",
    "            video_size=video_size,\n",
    "            device=model_opt.device,\n",
    "            spatial_crop_size=spatial_crop_size,\n",
    "            spatial_stride=spatial_stride,\n",
    "            temporal_stride=temporal_stride,\n",
    "            transform=transform,\n",
    "            batchsize=400,\n",
    "            N_stack_mask=i+1,\n",
    "        )\n",
    "    )\n"
   ]
  },
  {
   "cell_type": "code",
   "execution_count": null,
   "metadata": {},
   "outputs": [],
   "source": [
    "import re\n",
    "\n",
    "# ファイルのパス\n",
    "file_path = '/mnt/data/users/nagatomo/ucfTrainTestlist/testlist01.txt'\n",
    "\n",
    "# 正規表現パターン：最初のクラス名、gの後の数字、cの後の番号を抽出\n",
    "pattern = r'^([^/]+).*?g(\\d+)_c(\\d+)'\n",
    "\n",
    "# 結果を格納するリスト\n",
    "class_to_number = {}\n",
    "matches = []\n",
    "count = 1\n",
    "\n",
    "# ファイルを開いて最初のクラス名に番号を付ける\n",
    "with open(file_path, 'r') as file:\n",
    "    for line in file:\n",
    "        # 最初のクラス名を抽出\n",
    "        match = re.match(pattern, line)\n",
    "        if match:\n",
    "            class_name = match.group(1)  # クラス名\n",
    "            # クラス名がまだ登録されていなければ、番号を付けて保存\n",
    "            if class_name not in class_to_number:\n",
    "                class_to_number[class_name] = count\n",
    "                count += 1\n",
    "\n",
    "# ファイルを再度読み込んで番号を付けてgとcの数字を抽出\n",
    "with open(file_path, 'r') as file:\n",
    "    for line in file:\n",
    "        match = re.match(pattern, line)\n",
    "        if match:\n",
    "            class_name = match.group(1)  # クラス名\n",
    "            group_number = match.group(2)  # gの後の数字\n",
    "            count_number = match.group(3)  # cの後の番号\n",
    "            # クラス名を番号に置き換え\n",
    "            class_number = class_to_number[class_name]\n",
    "            matches.append((int(class_number)-1, int(group_number), int(count_number)))\n",
    "\n",
    "# 結果を表示\n",
    "# for class_number, group_number, count_number in matches:\n",
    "#     print(f\"Class: {class_number}, Group: {group_number}, Count: {count_number}\")\n"
   ]
  },
  {
   "cell_type": "code",
   "execution_count": null,
   "metadata": {},
   "outputs": [],
   "source": [
    "from evaluation.evaluation import CausalMetric, auc, gkern\n",
    "import torch.nn as nn\n",
    "from tqdm import tqdm\n",
    "\n",
    "klen = 11\n",
    "ksig = 5\n",
    "kern = gkern(klen, ksig)\n",
    "\n",
    "def blur_video(x):\n",
    "    out = x.copy()\n",
    "    for i in range(16):\n",
    "        out[0, i] = nn.functional.conv2d(x[0, i], kern, padding=klen//2)\n",
    "\n",
    "# Function that blurs input image\n",
    "blur = lambda x: nn.functional.conv2d(x, kern, padding=klen//2)"
   ]
  },
  {
   "cell_type": "code",
   "execution_count": null,
   "metadata": {},
   "outputs": [],
   "source": [
    "insertion = CausalMetric(model, 'ins', 112, substrate_fn=blur)\n",
    "deletion = CausalMetric(model, 'del', 112, substrate_fn=torch.zeros_like)\n",
    "# torch.zeros_like は，ある tensor の値をすべて0にしたいときに使う．"
   ]
  },
  {
   "cell_type": "code",
   "execution_count": null,
   "metadata": {},
   "outputs": [
    {
     "name": "stderr",
     "output_type": "stream",
     "text": [
      "  5%|▌         | 200/3783 [23:20<6:34:16,  6.60s/it]"
     ]
    },
    {
     "name": "stdout",
     "output_type": "stream",
     "text": [
      "200 / 3783:\n",
      "AOSA Single Deletion - 0.12175\n",
      "AOSA Single Insertion - 0.67683\n",
      "200 / 3783:\n",
      "AOSA Deletion - 0.10751\n",
      "AOSA Insertion - 0.67755\n"
     ]
    },
    {
     "name": "stderr",
     "output_type": "stream",
     "text": [
      " 11%|█         | 400/3783 [45:55<6:27:21,  6.87s/it]"
     ]
    },
    {
     "name": "stdout",
     "output_type": "stream",
     "text": [
      "400 / 3783:\n",
      "AOSA Single Deletion - 0.17031\n",
      "AOSA Single Insertion - 0.67825\n",
      "400 / 3783:\n",
      "AOSA Deletion - 0.15151\n",
      "AOSA Insertion - 0.68381\n"
     ]
    },
    {
     "name": "stderr",
     "output_type": "stream",
     "text": [
      " 16%|█▌        | 600/3783 [1:08:25<5:57:14,  6.73s/it]"
     ]
    },
    {
     "name": "stdout",
     "output_type": "stream",
     "text": [
      "600 / 3783:\n",
      "AOSA Single Deletion - 0.18115\n",
      "AOSA Single Insertion - 0.70649\n",
      "600 / 3783:\n",
      "AOSA Deletion - 0.17182\n",
      "AOSA Insertion - 0.70602\n"
     ]
    },
    {
     "name": "stderr",
     "output_type": "stream",
     "text": [
      " 21%|██        | 800/3783 [1:30:34<5:24:29,  6.53s/it]"
     ]
    },
    {
     "name": "stdout",
     "output_type": "stream",
     "text": [
      "800 / 3783:\n",
      "AOSA Single Deletion - 0.16764\n",
      "AOSA Single Insertion - 0.71450\n",
      "800 / 3783:\n",
      "AOSA Deletion - 0.15980\n",
      "AOSA Insertion - 0.70968\n"
     ]
    },
    {
     "name": "stderr",
     "output_type": "stream",
     "text": [
      " 26%|██▋       | 1000/3783 [1:52:51<5:18:22,  6.86s/it]"
     ]
    },
    {
     "name": "stdout",
     "output_type": "stream",
     "text": [
      "1000 / 3783:\n",
      "AOSA Single Deletion - 0.17471\n",
      "AOSA Single Insertion - 0.70294\n",
      "1000 / 3783:\n",
      "AOSA Deletion - 0.16758\n",
      "AOSA Insertion - 0.69773\n"
     ]
    },
    {
     "name": "stderr",
     "output_type": "stream",
     "text": [
      " 32%|███▏      | 1200/3783 [2:15:12<4:39:30,  6.49s/it]"
     ]
    },
    {
     "name": "stdout",
     "output_type": "stream",
     "text": [
      "1200 / 3783:\n",
      "AOSA Single Deletion - 0.17445\n",
      "AOSA Single Insertion - 0.69447\n",
      "1200 / 3783:\n",
      "AOSA Deletion - 0.16748\n",
      "AOSA Insertion - 0.68882\n"
     ]
    },
    {
     "name": "stderr",
     "output_type": "stream",
     "text": [
      " 36%|███▋      | 1375/3783 [2:34:46<4:22:54,  6.55s/it]"
     ]
    },
    {
     "name": "stdout",
     "output_type": "stream",
     "text": [
      "not exist\n",
      "[]\n",
      "/mnt/data/users/nagatomo/UCF101_images/HandstandPushups/v_HandstandPushups_g01_c01\n",
      "not exist\n",
      "[]\n",
      "/mnt/data/users/nagatomo/UCF101_images/HandstandPushups/v_HandstandPushups_g01_c02\n",
      "not exist\n",
      "[]\n",
      "/mnt/data/users/nagatomo/UCF101_images/HandstandPushups/v_HandstandPushups_g01_c03\n",
      "not exist\n",
      "[]\n",
      "/mnt/data/users/nagatomo/UCF101_images/HandstandPushups/v_HandstandPushups_g01_c04\n",
      "not exist\n",
      "[]\n",
      "/mnt/data/users/nagatomo/UCF101_images/HandstandPushups/v_HandstandPushups_g02_c01\n",
      "not exist\n",
      "[]\n",
      "/mnt/data/users/nagatomo/UCF101_images/HandstandPushups/v_HandstandPushups_g02_c02\n",
      "not exist\n",
      "[]\n",
      "/mnt/data/users/nagatomo/UCF101_images/HandstandPushups/v_HandstandPushups_g02_c03\n",
      "not exist\n",
      "[]\n",
      "/mnt/data/users/nagatomo/UCF101_images/HandstandPushups/v_HandstandPushups_g02_c04\n",
      "not exist\n",
      "[]\n",
      "/mnt/data/users/nagatomo/UCF101_images/HandstandPushups/v_HandstandPushups_g03_c01\n",
      "not exist\n",
      "[]\n",
      "/mnt/data/users/nagatomo/UCF101_images/HandstandPushups/v_HandstandPushups_g03_c02\n",
      "not exist\n",
      "[]\n",
      "/mnt/data/users/nagatomo/UCF101_images/HandstandPushups/v_HandstandPushups_g03_c03\n",
      "not exist\n",
      "[]\n",
      "/mnt/data/users/nagatomo/UCF101_images/HandstandPushups/v_HandstandPushups_g03_c04\n",
      "not exist\n",
      "[]\n",
      "/mnt/data/users/nagatomo/UCF101_images/HandstandPushups/v_HandstandPushups_g04_c01\n",
      "not exist\n",
      "[]\n",
      "/mnt/data/users/nagatomo/UCF101_images/HandstandPushups/v_HandstandPushups_g04_c02\n",
      "not exist\n",
      "[]\n",
      "/mnt/data/users/nagatomo/UCF101_images/HandstandPushups/v_HandstandPushups_g04_c03\n",
      "not exist\n",
      "[]\n",
      "/mnt/data/users/nagatomo/UCF101_images/HandstandPushups/v_HandstandPushups_g04_c04\n",
      "not exist\n",
      "[]\n",
      "/mnt/data/users/nagatomo/UCF101_images/HandstandPushups/v_HandstandPushups_g05_c01\n",
      "not exist\n",
      "[]\n",
      "/mnt/data/users/nagatomo/UCF101_images/HandstandPushups/v_HandstandPushups_g05_c02\n",
      "not exist\n",
      "[]\n",
      "/mnt/data/users/nagatomo/UCF101_images/HandstandPushups/v_HandstandPushups_g05_c03\n",
      "not exist\n",
      "[]\n",
      "/mnt/data/users/nagatomo/UCF101_images/HandstandPushups/v_HandstandPushups_g05_c04\n",
      "not exist\n",
      "[]\n",
      "/mnt/data/users/nagatomo/UCF101_images/HandstandPushups/v_HandstandPushups_g06_c01\n",
      "not exist\n",
      "[]\n",
      "/mnt/data/users/nagatomo/UCF101_images/HandstandPushups/v_HandstandPushups_g06_c02\n",
      "not exist\n",
      "[]\n",
      "/mnt/data/users/nagatomo/UCF101_images/HandstandPushups/v_HandstandPushups_g06_c03\n",
      "not exist\n",
      "[]\n",
      "/mnt/data/users/nagatomo/UCF101_images/HandstandPushups/v_HandstandPushups_g06_c04\n",
      "not exist\n",
      "[]\n",
      "/mnt/data/users/nagatomo/UCF101_images/HandstandPushups/v_HandstandPushups_g07_c01\n",
      "not exist\n",
      "[]\n",
      "/mnt/data/users/nagatomo/UCF101_images/HandstandPushups/v_HandstandPushups_g07_c02\n",
      "not exist\n",
      "[]\n",
      "/mnt/data/users/nagatomo/UCF101_images/HandstandPushups/v_HandstandPushups_g07_c03\n",
      "not exist\n",
      "[]\n",
      "/mnt/data/users/nagatomo/UCF101_images/HandstandPushups/v_HandstandPushups_g07_c04\n"
     ]
    },
    {
     "name": "stderr",
     "output_type": "stream",
     "text": [
      " 38%|███▊      | 1428/3783 [2:37:35<4:20:38,  6.64s/it]"
     ]
    },
    {
     "name": "stdout",
     "output_type": "stream",
     "text": [
      "1400 / 3783:\n",
      "AOSA Single Deletion - 0.16638\n",
      "AOSA Single Insertion - 0.67115\n",
      "1400 / 3783:\n",
      "AOSA Deletion - 0.15989\n",
      "AOSA Insertion - 0.66172\n"
     ]
    },
    {
     "name": "stderr",
     "output_type": "stream",
     "text": [
      " 43%|████▎     | 1628/3783 [3:00:26<3:55:24,  6.55s/it]"
     ]
    },
    {
     "name": "stdout",
     "output_type": "stream",
     "text": [
      "1600 / 3783:\n",
      "AOSA Single Deletion - 0.16485\n",
      "AOSA Single Insertion - 0.67905\n",
      "1600 / 3783:\n",
      "AOSA Deletion - 0.15808\n",
      "AOSA Insertion - 0.67044\n"
     ]
    },
    {
     "name": "stderr",
     "output_type": "stream",
     "text": [
      " 48%|████▊     | 1828/3783 [3:23:01<3:36:47,  6.65s/it]"
     ]
    },
    {
     "name": "stdout",
     "output_type": "stream",
     "text": [
      "1800 / 3783:\n",
      "AOSA Single Deletion - 0.15850\n",
      "AOSA Single Insertion - 0.68506\n",
      "1800 / 3783:\n",
      "AOSA Deletion - 0.15102\n",
      "AOSA Insertion - 0.67681\n"
     ]
    },
    {
     "name": "stderr",
     "output_type": "stream",
     "text": [
      " 54%|█████▎    | 2028/3783 [3:45:28<3:19:28,  6.82s/it]"
     ]
    },
    {
     "name": "stdout",
     "output_type": "stream",
     "text": [
      "2000 / 3783:\n",
      "AOSA Single Deletion - 0.15672\n",
      "AOSA Single Insertion - 0.67975\n",
      "2000 / 3783:\n",
      "AOSA Deletion - 0.14921\n",
      "AOSA Insertion - 0.67192\n"
     ]
    },
    {
     "name": "stderr",
     "output_type": "stream",
     "text": [
      " 59%|█████▉    | 2228/3783 [4:09:01<2:52:21,  6.65s/it]"
     ]
    },
    {
     "name": "stdout",
     "output_type": "stream",
     "text": [
      "2200 / 3783:\n",
      "AOSA Single Deletion - 0.15225\n",
      "AOSA Single Insertion - 0.66940\n",
      "2200 / 3783:\n",
      "AOSA Deletion - 0.14483\n",
      "AOSA Insertion - 0.66189\n"
     ]
    },
    {
     "name": "stderr",
     "output_type": "stream",
     "text": [
      " 64%|██████▍   | 2428/3783 [4:31:23<2:34:50,  6.86s/it]"
     ]
    },
    {
     "name": "stdout",
     "output_type": "stream",
     "text": [
      "2400 / 3783:\n",
      "AOSA Single Deletion - 0.14851\n",
      "AOSA Single Insertion - 0.67624\n",
      "2400 / 3783:\n",
      "AOSA Deletion - 0.14121\n",
      "AOSA Insertion - 0.66762\n"
     ]
    },
    {
     "name": "stderr",
     "output_type": "stream",
     "text": [
      " 69%|██████▉   | 2628/3783 [4:55:33<2:11:56,  6.85s/it]"
     ]
    },
    {
     "name": "stdout",
     "output_type": "stream",
     "text": [
      "2600 / 3783:\n",
      "AOSA Single Deletion - 0.14873\n",
      "AOSA Single Insertion - 0.67351\n",
      "2600 / 3783:\n",
      "AOSA Deletion - 0.14085\n",
      "AOSA Insertion - 0.66637\n"
     ]
    },
    {
     "name": "stderr",
     "output_type": "stream",
     "text": [
      " 75%|███████▍  | 2828/3783 [5:19:12<1:55:23,  7.25s/it]"
     ]
    },
    {
     "name": "stdout",
     "output_type": "stream",
     "text": [
      "2800 / 3783:\n",
      "AOSA Single Deletion - 0.14875\n",
      "AOSA Single Insertion - 0.67913\n",
      "2800 / 3783:\n",
      "AOSA Deletion - 0.14054\n",
      "AOSA Insertion - 0.67264\n"
     ]
    },
    {
     "name": "stderr",
     "output_type": "stream",
     "text": [
      " 80%|████████  | 3028/3783 [5:41:40<1:27:36,  6.96s/it]"
     ]
    },
    {
     "name": "stdout",
     "output_type": "stream",
     "text": [
      "3000 / 3783:\n",
      "AOSA Single Deletion - 0.14693\n",
      "AOSA Single Insertion - 0.67591\n",
      "3000 / 3783:\n",
      "AOSA Deletion - 0.13835\n",
      "AOSA Insertion - 0.67021\n"
     ]
    },
    {
     "name": "stderr",
     "output_type": "stream",
     "text": [
      " 85%|████████▌ | 3228/3783 [6:04:02<1:00:56,  6.59s/it]"
     ]
    },
    {
     "name": "stdout",
     "output_type": "stream",
     "text": [
      "3200 / 3783:\n",
      "AOSA Single Deletion - 0.14479\n",
      "AOSA Single Insertion - 0.67675\n",
      "3200 / 3783:\n",
      "AOSA Deletion - 0.13613\n",
      "AOSA Insertion - 0.66955\n"
     ]
    },
    {
     "name": "stderr",
     "output_type": "stream",
     "text": [
      " 91%|█████████ | 3428/3783 [6:26:19<38:27,  6.50s/it]  "
     ]
    },
    {
     "name": "stdout",
     "output_type": "stream",
     "text": [
      "3400 / 3783:\n",
      "AOSA Single Deletion - 0.14550\n",
      "AOSA Single Insertion - 0.67780\n",
      "3400 / 3783:\n",
      "AOSA Deletion - 0.13685\n",
      "AOSA Insertion - 0.66957\n"
     ]
    },
    {
     "name": "stderr",
     "output_type": "stream",
     "text": [
      " 96%|█████████▌| 3628/3783 [6:48:46<16:58,  6.57s/it]"
     ]
    },
    {
     "name": "stdout",
     "output_type": "stream",
     "text": [
      "3600 / 3783:\n",
      "AOSA Single Deletion - 0.14508\n",
      "AOSA Single Insertion - 0.67631\n",
      "3600 / 3783:\n",
      "AOSA Deletion - 0.13665\n",
      "AOSA Insertion - 0.66782\n"
     ]
    },
    {
     "name": "stderr",
     "output_type": "stream",
     "text": [
      "100%|██████████| 3783/3783 [7:06:02<00:00,  6.76s/it]"
     ]
    },
    {
     "name": "stdout",
     "output_type": "stream",
     "text": [
      "----------------------------------------------------------------\n",
      "Final:\n",
      "AOSA Single Deletion - 0.14731\n",
      "AOSA Single Insertion - 0.67439\n",
      "Final:\n",
      "AOSA Deletion - 0.13831\n",
      "AOSA Insertion - 0.66589\n"
     ]
    },
    {
     "name": "stderr",
     "output_type": "stream",
     "text": [
      "\n"
     ]
    }
   ],
   "source": [
    "#%% AOSAの実行\n",
    "\n",
    "# l = 20 # 正解クラス\n",
    "# g = 1  # > 0\n",
    "# c = 1  # > 0\n",
    "n = 0  # 動画の前からどれくらいか1~5くらいがいいのではないかと思われる\n",
    "        # 0じゃないとだめなやつあった．\n",
    "scores_aosa_single = {'del': [], 'ins': []}\n",
    "scores_aosa = {'del': [], 'ins': []}\n",
    "\n",
    "cnt = 0\n",
    "\n",
    "for l, g, c in tqdm(matches):\n",
    "    video = load_jpg_ucf101_from_NAS(l, g, c, n, inference_class_names, transform)\n",
    "    if video is False:\n",
    "        continue\n",
    "    video = video.transpose(0, 1)\n",
    "    target = l\n",
    "    with torch.inference_mode():\n",
    "        pred = model(video.unsqueeze(0)).cpu().numpy().argmax()\n",
    "    video_orgimg = []\n",
    "\n",
    "    for i in range(video_size[2]):\n",
    "        img = video.squeeze().transpose(0, 1)[i]\n",
    "        video_orgimg.append(np.array(unnormalize(img)))\n",
    "    video_orgimg = np.array(video_orgimg)\n",
    "\n",
    "    aosa_single_map = aosa_single.run(video, target)\n",
    "\n",
    "    aosa_map = aosa.run(video, target)\n",
    "\n",
    "    # Evaluate deletion\n",
    "    h = deletion.evaluate_video(pred, video, aosa_single_map, verbose=1)\n",
    "    scores_aosa_single['del'].append(auc(h))\n",
    "\n",
    "    h = deletion.evaluate_video(pred, video, aosa_map, verbose=1)\n",
    "    scores_aosa['del'].append(auc(h))\n",
    "\n",
    "    # Evaluate insertion\n",
    "    h = insertion.evaluate_video(pred, video, aosa_single_map, verbose=1)\n",
    "    scores_aosa_single['ins'].append(auc(h))\n",
    "\n",
    "    h = insertion.evaluate_video(pred, video, aosa_map, verbose=1)\n",
    "    scores_aosa['ins'].append(auc(h))\n",
    "    cnt += 1\n",
    "    if cnt % 200 == 0:\n",
    "        print('{} / 3783:\\nAOSA Single Deletion - {:.5f}\\nAOSA Single Insertion - {:.5f}'.format(cnt, np.mean(scores_aosa_single['del']), np.mean(scores_aosa_single['ins'])))\n",
    "        print('{} / 3783:\\nAOSA Deletion - {:.5f}\\nAOSA Insertion - {:.5f}'.format(cnt, np.mean(scores_aosa['del']), np.mean(scores_aosa['ins'])))\n",
    "\n",
    "    \n",
    "print('----------------------------------------------------------------')\n",
    "print('Final:\\nAOSA Single Deletion - {:.5f}\\nAOSA Single Insertion - {:.5f}'.format(np.mean(scores_aosa_single['del']), np.mean(scores_aosa_single['ins'])))\n",
    "print('Final:\\nAOSA Deletion - {:.5f}\\nAOSA Insertion - {:.5f}'.format(np.mean(scores_aosa['del']), np.mean(scores_aosa['ins'])))\n"
   ]
  },
  {
   "cell_type": "code",
   "execution_count": null,
   "metadata": {},
   "outputs": [
    {
     "name": "stdout",
     "output_type": "stream",
     "text": [
      "mask: 11, 12\n"
     ]
    },
    {
     "name": "stderr",
     "output_type": "stream",
     "text": [
      "  5%|▌         | 200/3783 [24:22<7:03:51,  7.10s/it]"
     ]
    },
    {
     "name": "stdout",
     "output_type": "stream",
     "text": [
      "200 / 3783:\n",
      "ARSA Single Deletion - 0.12714\n",
      "ARSA Single Insertion - 0.65047\n",
      "200 / 3783:\n",
      "ARSA Deletion - 0.12947\n",
      "ARSA Insertion - 0.65034\n"
     ]
    },
    {
     "name": "stderr",
     "output_type": "stream",
     "text": [
      " 11%|█         | 400/3783 [49:19<6:53:50,  7.34s/it]"
     ]
    },
    {
     "name": "stdout",
     "output_type": "stream",
     "text": [
      "400 / 3783:\n",
      "ARSA Single Deletion - 0.17004\n",
      "ARSA Single Insertion - 0.67076\n",
      "400 / 3783:\n",
      "ARSA Deletion - 0.17136\n",
      "ARSA Insertion - 0.66991\n"
     ]
    },
    {
     "name": "stderr",
     "output_type": "stream",
     "text": [
      " 16%|█▌        | 600/3783 [1:13:13<6:19:33,  7.15s/it]"
     ]
    },
    {
     "name": "stdout",
     "output_type": "stream",
     "text": [
      "600 / 3783:\n",
      "ARSA Single Deletion - 0.19379\n",
      "ARSA Single Insertion - 0.69116\n",
      "600 / 3783:\n",
      "ARSA Deletion - 0.19488\n",
      "ARSA Insertion - 0.69035\n"
     ]
    },
    {
     "name": "stderr",
     "output_type": "stream",
     "text": [
      " 21%|██        | 800/3783 [1:36:41<5:44:08,  6.92s/it]"
     ]
    },
    {
     "name": "stdout",
     "output_type": "stream",
     "text": [
      "800 / 3783:\n",
      "ARSA Single Deletion - 0.18039\n",
      "ARSA Single Insertion - 0.69184\n",
      "800 / 3783:\n",
      "ARSA Deletion - 0.18101\n",
      "ARSA Insertion - 0.69144\n"
     ]
    },
    {
     "name": "stderr",
     "output_type": "stream",
     "text": [
      " 26%|██▋       | 1000/3783 [2:00:20<5:37:28,  7.28s/it]"
     ]
    },
    {
     "name": "stdout",
     "output_type": "stream",
     "text": [
      "1000 / 3783:\n",
      "ARSA Single Deletion - 0.18502\n",
      "ARSA Single Insertion - 0.68699\n",
      "1000 / 3783:\n",
      "ARSA Deletion - 0.18579\n",
      "ARSA Insertion - 0.68667\n"
     ]
    },
    {
     "name": "stderr",
     "output_type": "stream",
     "text": [
      " 32%|███▏      | 1200/3783 [2:24:06<4:55:53,  6.87s/it]"
     ]
    },
    {
     "name": "stdout",
     "output_type": "stream",
     "text": [
      "1200 / 3783:\n",
      "ARSA Single Deletion - 0.18603\n",
      "ARSA Single Insertion - 0.67629\n",
      "1200 / 3783:\n",
      "ARSA Deletion - 0.18708\n",
      "ARSA Insertion - 0.67569\n"
     ]
    },
    {
     "name": "stderr",
     "output_type": "stream",
     "text": [
      " 36%|███▋      | 1375/3783 [2:44:55<4:38:18,  6.93s/it]"
     ]
    },
    {
     "name": "stdout",
     "output_type": "stream",
     "text": [
      "not exist\n",
      "[]\n",
      "/mnt/data/users/nagatomo/UCF101_images/HandstandPushups/v_HandstandPushups_g01_c01\n",
      "not exist\n",
      "[]\n",
      "/mnt/data/users/nagatomo/UCF101_images/HandstandPushups/v_HandstandPushups_g01_c02\n",
      "not exist\n",
      "[]\n",
      "/mnt/data/users/nagatomo/UCF101_images/HandstandPushups/v_HandstandPushups_g01_c03\n",
      "not exist\n",
      "[]\n",
      "/mnt/data/users/nagatomo/UCF101_images/HandstandPushups/v_HandstandPushups_g01_c04\n",
      "not exist\n",
      "[]\n",
      "/mnt/data/users/nagatomo/UCF101_images/HandstandPushups/v_HandstandPushups_g02_c01\n",
      "not exist\n",
      "[]\n",
      "/mnt/data/users/nagatomo/UCF101_images/HandstandPushups/v_HandstandPushups_g02_c02\n",
      "not exist\n",
      "[]\n",
      "/mnt/data/users/nagatomo/UCF101_images/HandstandPushups/v_HandstandPushups_g02_c03\n",
      "not exist\n",
      "[]\n",
      "/mnt/data/users/nagatomo/UCF101_images/HandstandPushups/v_HandstandPushups_g02_c04\n",
      "not exist\n",
      "[]\n",
      "/mnt/data/users/nagatomo/UCF101_images/HandstandPushups/v_HandstandPushups_g03_c01\n",
      "not exist\n",
      "[]\n",
      "/mnt/data/users/nagatomo/UCF101_images/HandstandPushups/v_HandstandPushups_g03_c02\n",
      "not exist\n",
      "[]\n",
      "/mnt/data/users/nagatomo/UCF101_images/HandstandPushups/v_HandstandPushups_g03_c03\n",
      "not exist\n",
      "[]\n",
      "/mnt/data/users/nagatomo/UCF101_images/HandstandPushups/v_HandstandPushups_g03_c04\n",
      "not exist\n",
      "[]\n",
      "/mnt/data/users/nagatomo/UCF101_images/HandstandPushups/v_HandstandPushups_g04_c01\n",
      "not exist\n",
      "[]\n",
      "/mnt/data/users/nagatomo/UCF101_images/HandstandPushups/v_HandstandPushups_g04_c02\n",
      "not exist\n",
      "[]\n",
      "/mnt/data/users/nagatomo/UCF101_images/HandstandPushups/v_HandstandPushups_g04_c03\n",
      "not exist\n",
      "[]\n",
      "/mnt/data/users/nagatomo/UCF101_images/HandstandPushups/v_HandstandPushups_g04_c04\n",
      "not exist\n",
      "[]\n",
      "/mnt/data/users/nagatomo/UCF101_images/HandstandPushups/v_HandstandPushups_g05_c01\n",
      "not exist\n",
      "[]\n",
      "/mnt/data/users/nagatomo/UCF101_images/HandstandPushups/v_HandstandPushups_g05_c02\n",
      "not exist\n",
      "[]\n",
      "/mnt/data/users/nagatomo/UCF101_images/HandstandPushups/v_HandstandPushups_g05_c03\n",
      "not exist\n",
      "[]\n",
      "/mnt/data/users/nagatomo/UCF101_images/HandstandPushups/v_HandstandPushups_g05_c04\n",
      "not exist\n",
      "[]\n",
      "/mnt/data/users/nagatomo/UCF101_images/HandstandPushups/v_HandstandPushups_g06_c01\n",
      "not exist\n",
      "[]\n",
      "/mnt/data/users/nagatomo/UCF101_images/HandstandPushups/v_HandstandPushups_g06_c02\n",
      "not exist\n",
      "[]\n",
      "/mnt/data/users/nagatomo/UCF101_images/HandstandPushups/v_HandstandPushups_g06_c03\n",
      "not exist\n",
      "[]\n",
      "/mnt/data/users/nagatomo/UCF101_images/HandstandPushups/v_HandstandPushups_g06_c04\n",
      "not exist\n",
      "[]\n",
      "/mnt/data/users/nagatomo/UCF101_images/HandstandPushups/v_HandstandPushups_g07_c01\n",
      "not exist\n",
      "[]\n",
      "/mnt/data/users/nagatomo/UCF101_images/HandstandPushups/v_HandstandPushups_g07_c02\n",
      "not exist\n",
      "[]\n",
      "/mnt/data/users/nagatomo/UCF101_images/HandstandPushups/v_HandstandPushups_g07_c03\n",
      "not exist\n",
      "[]\n",
      "/mnt/data/users/nagatomo/UCF101_images/HandstandPushups/v_HandstandPushups_g07_c04\n"
     ]
    },
    {
     "name": "stderr",
     "output_type": "stream",
     "text": [
      " 38%|███▊      | 1428/3783 [2:47:55<4:36:04,  7.03s/it]"
     ]
    },
    {
     "name": "stdout",
     "output_type": "stream",
     "text": [
      "1400 / 3783:\n",
      "ARSA Single Deletion - 0.17910\n",
      "ARSA Single Insertion - 0.64907\n",
      "1400 / 3783:\n",
      "ARSA Deletion - 0.18008\n",
      "ARSA Insertion - 0.64818\n"
     ]
    },
    {
     "name": "stderr",
     "output_type": "stream",
     "text": [
      " 43%|████▎     | 1628/3783 [3:11:57<4:09:49,  6.96s/it]"
     ]
    },
    {
     "name": "stdout",
     "output_type": "stream",
     "text": [
      "1600 / 3783:\n",
      "ARSA Single Deletion - 0.17511\n",
      "ARSA Single Insertion - 0.65903\n",
      "1600 / 3783:\n",
      "ARSA Deletion - 0.17601\n",
      "ARSA Insertion - 0.65864\n"
     ]
    },
    {
     "name": "stderr",
     "output_type": "stream",
     "text": [
      " 48%|████▊     | 1828/3783 [3:36:00<3:49:40,  7.05s/it]"
     ]
    },
    {
     "name": "stdout",
     "output_type": "stream",
     "text": [
      "1800 / 3783:\n",
      "ARSA Single Deletion - 0.16797\n",
      "ARSA Single Insertion - 0.66377\n",
      "1800 / 3783:\n",
      "ARSA Deletion - 0.16877\n",
      "ARSA Insertion - 0.66400\n"
     ]
    },
    {
     "name": "stderr",
     "output_type": "stream",
     "text": [
      " 54%|█████▎    | 2028/3783 [3:59:53<3:31:33,  7.23s/it]"
     ]
    },
    {
     "name": "stdout",
     "output_type": "stream",
     "text": [
      "2000 / 3783:\n",
      "ARSA Single Deletion - 0.16365\n",
      "ARSA Single Insertion - 0.66025\n",
      "2000 / 3783:\n",
      "ARSA Deletion - 0.16446\n",
      "ARSA Insertion - 0.66031\n"
     ]
    },
    {
     "name": "stderr",
     "output_type": "stream",
     "text": [
      " 59%|█████▉    | 2228/3783 [4:23:42<3:01:53,  7.02s/it]"
     ]
    },
    {
     "name": "stdout",
     "output_type": "stream",
     "text": [
      "2200 / 3783:\n",
      "ARSA Single Deletion - 0.16011\n",
      "ARSA Single Insertion - 0.64902\n",
      "2200 / 3783:\n",
      "ARSA Deletion - 0.16090\n",
      "ARSA Insertion - 0.64914\n"
     ]
    },
    {
     "name": "stderr",
     "output_type": "stream",
     "text": [
      " 64%|██████▍   | 2428/3783 [4:47:28<2:44:51,  7.30s/it]"
     ]
    },
    {
     "name": "stdout",
     "output_type": "stream",
     "text": [
      "2400 / 3783:\n",
      "ARSA Single Deletion - 0.15707\n",
      "ARSA Single Insertion - 0.65391\n",
      "2400 / 3783:\n",
      "ARSA Deletion - 0.15788\n",
      "ARSA Insertion - 0.65407\n"
     ]
    },
    {
     "name": "stderr",
     "output_type": "stream",
     "text": [
      " 69%|██████▉   | 2628/3783 [5:11:34<2:20:52,  7.32s/it]"
     ]
    },
    {
     "name": "stdout",
     "output_type": "stream",
     "text": [
      "2600 / 3783:\n",
      "ARSA Single Deletion - 0.15647\n",
      "ARSA Single Insertion - 0.65287\n",
      "2600 / 3783:\n",
      "ARSA Deletion - 0.15715\n",
      "ARSA Insertion - 0.65303\n"
     ]
    },
    {
     "name": "stderr",
     "output_type": "stream",
     "text": [
      " 75%|███████▍  | 2828/3783 [5:36:14<1:56:42,  7.33s/it]"
     ]
    },
    {
     "name": "stdout",
     "output_type": "stream",
     "text": [
      "2800 / 3783:\n",
      "ARSA Single Deletion - 0.15725\n",
      "ARSA Single Insertion - 0.65895\n",
      "2800 / 3783:\n",
      "ARSA Deletion - 0.15789\n",
      "ARSA Insertion - 0.65897\n"
     ]
    },
    {
     "name": "stderr",
     "output_type": "stream",
     "text": [
      " 80%|████████  | 3028/3783 [6:01:51<1:40:58,  8.03s/it]"
     ]
    },
    {
     "name": "stdout",
     "output_type": "stream",
     "text": [
      "3000 / 3783:\n",
      "ARSA Single Deletion - 0.15546\n",
      "ARSA Single Insertion - 0.65745\n",
      "3000 / 3783:\n",
      "ARSA Deletion - 0.15618\n",
      "ARSA Insertion - 0.65744\n"
     ]
    },
    {
     "name": "stderr",
     "output_type": "stream",
     "text": [
      " 85%|████████▌ | 3228/3783 [6:27:37<1:10:48,  7.66s/it]"
     ]
    },
    {
     "name": "stdout",
     "output_type": "stream",
     "text": [
      "3200 / 3783:\n",
      "ARSA Single Deletion - 0.15560\n",
      "ARSA Single Insertion - 0.65638\n",
      "3200 / 3783:\n",
      "ARSA Deletion - 0.15638\n",
      "ARSA Insertion - 0.65634\n"
     ]
    },
    {
     "name": "stderr",
     "output_type": "stream",
     "text": [
      " 91%|█████████ | 3428/3783 [6:52:49<41:03,  6.94s/it]  "
     ]
    },
    {
     "name": "stdout",
     "output_type": "stream",
     "text": [
      "3400 / 3783:\n",
      "ARSA Single Deletion - 0.15705\n",
      "ARSA Single Insertion - 0.65635\n",
      "3400 / 3783:\n",
      "ARSA Deletion - 0.15780\n",
      "ARSA Insertion - 0.65645\n"
     ]
    },
    {
     "name": "stderr",
     "output_type": "stream",
     "text": [
      " 96%|█████████▌| 3628/3783 [7:16:50<18:07,  7.02s/it]"
     ]
    },
    {
     "name": "stdout",
     "output_type": "stream",
     "text": [
      "3600 / 3783:\n",
      "ARSA Single Deletion - 0.15732\n",
      "ARSA Single Insertion - 0.65420\n",
      "3600 / 3783:\n",
      "ARSA Deletion - 0.15802\n",
      "ARSA Insertion - 0.65425\n"
     ]
    },
    {
     "name": "stderr",
     "output_type": "stream",
     "text": [
      "100%|██████████| 3783/3783 [7:35:20<00:00,  7.22s/it]"
     ]
    },
    {
     "name": "stdout",
     "output_type": "stream",
     "text": [
      "----------------------------------------------------------------\n",
      "Final:\n",
      "ARSA Single Deletion - 0.15892\n",
      "ARSA Single Insertion - 0.65234\n",
      "Final:\n",
      "ARSA Deletion - 0.15955\n",
      "ARSA Insertion - 0.65235\n"
     ]
    },
    {
     "name": "stderr",
     "output_type": "stream",
     "text": [
      "\n"
     ]
    },
    {
     "ename": "",
     "evalue": "",
     "output_type": "error",
     "traceback": [
      "\u001b[1;31m現在のセルまたは前のセルでコードを実行中に、カーネル (Kernel) がクラッシュしました。\n",
      "\u001b[1;31mエラーの原因を特定するには、セル内のコードを確認してください。\n",
      "\u001b[1;31m詳細については<a href='https://aka.ms/vscodeJupyterKernelCrash'>こちら</a>をクリックします。\n",
      "\u001b[1;31m詳細については、Jupyter <a href='command:jupyter.viewOutput'>ログ</a> を参照してください。"
     ]
    }
   ],
   "source": [
    "#%% ARSAの実行\n",
    "\n",
    "# l = 20 # 正解クラス\n",
    "# g = 1  # > 0\n",
    "# c = 1  # > 0\n",
    "n = 0  # 動画の前からどれくらいか1~5くらいがいいのではないかと思われる\n",
    "        # 0じゃないとだめなやつあった．\n",
    "scores_arsa_single = {'del': [], 'ins': []}\n",
    "scores_arsa = {'del': [], 'ins': []}\n",
    "\n",
    "cnt = 0\n",
    "print(f\"mask: {arsa[10].N_stack_mask}, {arsa[11].N_stack_mask}\")\n",
    "\n",
    "for l, g, c in tqdm(matches):\n",
    "    video = load_jpg_ucf101_from_NAS(l, g, c, n, inference_class_names, transform)\n",
    "    if video is False:\n",
    "        continue\n",
    "    video = video.transpose(0, 1)\n",
    "    target = l\n",
    "    with torch.inference_mode():\n",
    "        pred = model(video.unsqueeze(0)).cpu().numpy().argmax()\n",
    "    video_orgimg = []\n",
    "\n",
    "    for i in range(video_size[2]):\n",
    "        img = video.squeeze().transpose(0, 1)[i]\n",
    "        video_orgimg.append(np.array(unnormalize(img)))\n",
    "    video_orgimg = np.array(video_orgimg)\n",
    "\n",
    "    arsa_single_map = arsa[10].inverse_run(video, target)\n",
    "\n",
    "    arsa_map = arsa[11].inverse_run(video, target)\n",
    "\n",
    "    # Evaluate deletion\n",
    "    h = deletion.evaluate_video(pred, video, arsa_single_map, verbose=1)\n",
    "    scores_arsa_single['del'].append(auc(h))\n",
    "\n",
    "    h = deletion.evaluate_video(pred, video, arsa_map, verbose=1)\n",
    "    scores_arsa['del'].append(auc(h))\n",
    "\n",
    "    # Evaluate insertion\n",
    "    h = insertion.evaluate_video(pred, video, arsa_single_map, verbose=1)\n",
    "    scores_arsa_single['ins'].append(auc(h))\n",
    "\n",
    "    h = insertion.evaluate_video(pred, video, arsa_map, verbose=1)\n",
    "    scores_arsa['ins'].append(auc(h))\n",
    "    cnt += 1\n",
    "    if cnt % 200 == 0:\n",
    "        print('{} / 3783:\\nARSA Single Deletion - {:.5f}\\nARSA Single Insertion - {:.5f}'.format(cnt, np.mean(scores_arsa_single['del']), np.mean(scores_arsa_single['ins'])))\n",
    "        print('{} / 3783:\\nARSA Deletion - {:.5f}\\nARSA Insertion - {:.5f}'.format(cnt, np.mean(scores_arsa['del']), np.mean(scores_arsa['ins'])))\n",
    "\n",
    "    \n",
    "print('----------------------------------------------------------------')\n",
    "print('Final:\\nARSA Single Deletion - {:.5f}\\nARSA Single Insertion - {:.5f}'.format(np.mean(scores_arsa_single['del']), np.mean(scores_arsa_single['ins'])))\n",
    "print('Final:\\nARSA Deletion - {:.5f}\\nARSA Insertion - {:.5f}'.format(np.mean(scores_arsa['del']), np.mean(scores_arsa['ins'])))\n"
   ]
  }
 ],
 "metadata": {
  "kernelspec": {
   "display_name": "aosa",
   "language": "python",
   "name": "python3"
  },
  "language_info": {
   "codemirror_mode": {
    "name": "ipython",
    "version": 3
   },
   "file_extension": ".py",
   "mimetype": "text/x-python",
   "name": "python",
   "nbconvert_exporter": "python",
   "pygments_lexer": "ipython3",
   "version": "3.8.19"
  }
 },
 "nbformat": 4,
 "nbformat_minor": 2
}
